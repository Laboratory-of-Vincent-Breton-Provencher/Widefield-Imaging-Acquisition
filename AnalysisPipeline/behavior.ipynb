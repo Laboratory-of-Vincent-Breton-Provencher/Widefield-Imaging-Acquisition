{
 "cells": [
  {
   "cell_type": "markdown",
   "metadata": {},
   "source": [
    "## Analyse comportementale"
   ]
  },
  {
   "cell_type": "code",
   "execution_count": 1,
   "metadata": {},
   "outputs": [],
   "source": [
    "# modules\n",
    "import numpy as np\n",
    "from matplotlib import pyplot as plt\n",
    "import seaborn as sns\n",
    "\n",
    "from scipy.ndimage import gaussian_filter1d\n",
    "from scipy.stats import sem\n",
    "from matplotlib import colormaps as clm"
   ]
  },
  {
   "cell_type": "code",
   "execution_count": 9,
   "metadata": {},
   "outputs": [
    {
     "name": "stdout",
     "output_type": "stream",
     "text": [
      "331.68479999999994\n",
      "16471\n"
     ]
    }
   ],
   "source": [
    "# load data\n",
    "# path_base = r\"Z:\\gGermain\\2024-09-17\\3\"\n",
    "# path_base = r\"C:\\Users\\gabri\\Desktop\\data\\2024-09-17\"\n",
    "path_base = r\"D:\\ggermain\\2025-03-21_opto_M914\\2_pupil\"\n",
    "\n",
    "pupil1 = np.load(path_base + \"\\\\pupil_01.npy\", allow_pickle=True).item()\n",
    "pupil2 = np.load(path_base + \"\\\\pupil_02.npy\", allow_pickle=True).item()\n",
    "violet_t = np.load(path_base + \"\\\\405ts.npy\")\n",
    "blue_t = np.load(path_base + \"\\\\470ts.npy\")\n",
    "green_t = np.load(path_base + \"\\\\530ts.npy\")\n",
    "red_t = np.load(path_base + \"\\\\625ts.npy\")\n",
    "lsci_t = np.load(path_base + \"\\\\785ts.npy\")\n",
    "\n",
    "time = np.sort(np.concatenate((violet_t, blue_t, green_t, red_t, lsci_t)))#*1.0002\n",
    "\n",
    "\n",
    "# motion = beh_data['motion'][1]\n",
    "# motion = gaussian_filter1d(motion, sigma=2)\n",
    "# pupil = beh_data['pupil'][0]['area_smooth']\n",
    "# blink = beh_data['blink'][0]\n",
    "pupil1 = pupil1['pupil'][0]['area_smooth']\n",
    "pupil2 = pupil2['pupil'][0]['area_smooth']\n",
    "time = time[0:len(pupil1)]\n",
    "# print(len(time))\n",
    "# print(len(motion))\n",
    "print(time[-1])\n",
    "print(len(pupil1))\n",
    "\n",
    "sigs = (pupil1, pupil2)\n",
    "# grossier, aller chercher timestamps frames\n",
    "# time = np.array(list(range(len(motion))))/50.18\n"
   ]
  },
  {
   "cell_type": "code",
   "execution_count": 10,
   "metadata": {},
   "outputs": [],
   "source": [
    "# air puffs\n",
    "\n",
    "# AP_times = np.array([  12.01,   35.2 ,   46.51,   74.12,   91.14,  103.63,  114.48,\n",
    "#        132.14,  142.77,  169.61,  182.33,  197.83,  209.56,  223.5 ,\n",
    "#        239.35,  252.31,  263.77,  279.97,  297.53,  310.62,  323.38,\n",
    "#        335.92,  365.67,  383.93,  402.83,  417.51,  430.48,  440.9 ,\n",
    "#        456.7 ,  468.25])\n",
    "\n",
    "AP_times = np.arange(30, 331, 32)\n",
    "\n",
    "AP_idx = []\n",
    "for ti in AP_times:\n",
    "       AP_idx.append(np.argmin(np.absolute(time-ti)))\n",
    "# Dirac où AP dans times series\n",
    "AP_series = np.zeros(len(time))\n",
    "AP_series[AP_idx] = 1\n",
    "\n",
    "## ALIGN DATA\n",
    "inf = 30*5\n",
    "sup = 100*5\n",
    "aligned_data_raw = np.zeros((len(sigs), len(AP_idx), inf+sup))\n",
    "aligned_data_norm = np.zeros((len(sigs), len(AP_idx), inf+sup))\n",
    "for idx, sig in enumerate(sigs):\n",
    "  for i in range(len(AP_idx)):\n",
    "    plage = sig[int(AP_idx[i]-inf):int(AP_idx[i]+sup)]\n",
    "    aligned_data_raw[idx,i,:] = plage\n",
    "    aligned_data_norm[idx,i,:] = (plage-np.min(plage))/(np.max(plage)-np.min(plage))\n",
    "\n",
    "  aligned_data = aligned_data_raw\n",
    "\n"
   ]
  },
  {
   "cell_type": "markdown",
   "metadata": {},
   "source": [
    "les time stamps des frames ne semblent pas être alignés avec les ai puffs, prendre time stamps camera au lieu d'estimer time"
   ]
  },
  {
   "cell_type": "code",
   "execution_count": 15,
   "metadata": {},
   "outputs": [
    {
     "data": {
      "text/plain": [
       "<matplotlib.legend.Legend at 0x1e3894fea50>"
      ]
     },
     "execution_count": 15,
     "metadata": {},
     "output_type": "execute_result"
    }
   ],
   "source": [
    "%matplotlib qt5\n",
    "# %matplotlib inline\n",
    "sns.set_context('notebook')\n",
    "fg = plt.figure(figsize=(7,5))\n",
    "plt.plot(time, pupil2, color='seagreen', label=\"motion\", )\n",
    "# plt.plot(time, pupil, label=\"pupil\")\n",
    "# plt.plot(time, (blink-blink.min())/6, label=\"blink\")\n",
    "plt.vlines(AP_times, pupil2.min(), pupil2.max(), color='grey', linestyles=('--'), label='air puff')\n",
    "# plt.xlim(0, 220-160)\n",
    "# plt.xlim(0, 120)\n",
    "plt.xlabel('time [s]')\n",
    "# plt.ylabel('motion energy [a.u.]')\n",
    "sns.despine()\n",
    "plt.legend()\n",
    "# plt.savefig(\"whisker_motion.svg\")\n",
    "# plt.show()\n"
   ]
  },
  {
   "cell_type": "code",
   "execution_count": 21,
   "metadata": {},
   "outputs": [
    {
     "name": "stdout",
     "output_type": "stream",
     "text": [
      "(650,)\n",
      "(650,)\n"
     ]
    }
   ],
   "source": [
    "fig, axs = plt.subplots(3, 2, figsize=(14,7), width_ratios=[5, 4])\n",
    "sns.set_context('notebook')\n",
    "\n",
    "titles = (\"Motion\", \"Pupil size\", \"Blink\")\n",
    "titles_av = (\"Motion average\", \"Pupil size average\", \"Blink average\")\n",
    "cols = ('midnightblue', 'midnightblue', 'midnightblue')\n",
    "cmaps = (clm['PuBu_r'], clm['PuBu_r'], clm['PuBu_r'])\n",
    "\n",
    "\n",
    "for idx, (sig, cmap, title, title_av) in enumerate(zip(aligned_data, cmaps, titles, titles_av)):\n",
    "  ax = plt.subplot(3, 2, 2*idx+1)\n",
    "  ax.set_title(title)\n",
    "  ax.set_xlabel('time relative to airpuff [s]')\n",
    "  ax.set_ylabel(\"trial [-]\")\n",
    "  pos = ax.imshow(aligned_data_norm[idx,:,:], origin='lower', extent=[time[AP_idx[0]-inf]-time[AP_idx[0]], time[AP_idx[0]+sup]-time[AP_idx[0]], 0, len(AP_times)], aspect='auto', cmap=cmap)\n",
    "  fig.colorbar(pos, ax=ax)\n",
    "\n",
    "for idx, (sig, col, title, title_av) in enumerate(zip(aligned_data_raw, cols, titles, titles_av)):\n",
    "    avg_data = np.mean(sig, axis=0)\n",
    "    print(avg_data.shape)\n",
    "    std_data = sem(sig, axis=0)\n",
    "\n",
    "    ax = plt.subplot(3, 2, 2*idx+2)\n",
    "    ax.set_title(title_av)\n",
    "    # ax.vlines(0, avg_data.min(), avg_data.max(), color='grey', linestyles='-')\n",
    "    # ax.plot(time[AP_idx[0]-inf:AP_idx[0]+sup]-time[AP_idx[0]], avg_data, color=col)\n",
    "    ax.plot(np.linspace(-3, 10, 650), avg_data, color=col)\n",
    "    # ax.fill_between(time[AP_idx[0]-inf:AP_idx[0]+sup]-time[AP_idx[0]], avg_data-std_data, avg_data+std_data, color=col, alpha=0.2)\n",
    "    ax.fill_between(np.linspace(-3, 10, 650), avg_data-std_data, avg_data+std_data, color=col, alpha=0.2)\n",
    "    ax.set_xlim(time[AP_idx[0]-inf]-time[AP_idx[0]], time[AP_idx[0]+sup]-time[AP_idx[0]])\n",
    "    ax.set_xlabel('time relative to airpuff [s]')\n",
    "    # if idx == 1:\n",
    "        # ax.set_ylabel(\"Concentration variation [uM]\")\n",
    "    # sns.despine()\n",
    "    plt.tight_layout()\n",
    "\n",
    "# plt.savefig(\"behavior_rasters.svg\")"
   ]
  },
  {
   "cell_type": "code",
   "execution_count": null,
   "metadata": {},
   "outputs": [],
   "source": []
  }
 ],
 "metadata": {
  "kernelspec": {
   "display_name": "WFenv",
   "language": "python",
   "name": "python3"
  },
  "language_info": {
   "codemirror_mode": {
    "name": "ipython",
    "version": 3
   },
   "file_extension": ".py",
   "mimetype": "text/x-python",
   "name": "python",
   "nbconvert_exporter": "python",
   "pygments_lexer": "ipython3",
   "version": "3.12.4"
  }
 },
 "nbformat": 4,
 "nbformat_minor": 2
}
