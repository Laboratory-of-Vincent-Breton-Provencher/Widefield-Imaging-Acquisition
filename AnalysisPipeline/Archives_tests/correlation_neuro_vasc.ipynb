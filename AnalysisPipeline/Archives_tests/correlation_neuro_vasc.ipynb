{
 "cells": [
  {
   "cell_type": "markdown",
   "metadata": {},
   "source": [
    "## Modules"
   ]
  },
  {
   "cell_type": "code",
   "execution_count": 103,
   "metadata": {},
   "outputs": [],
   "source": [
    "import os\n",
    "from tqdm import tqdm\n",
    "\n",
    "from PIL import Image\n",
    "import numpy as np\n",
    "from scipy.interpolate import interp1d\n",
    "from scipy.signal import find_peaks, correlate, butter, freqs, filtfilt\n",
    "from scipy.ndimage import gaussian_filter, median_filter, shift\n",
    "from scipy.stats import sem, zscore\n",
    "from scipy.optimize import curve_fit\n",
    "\n",
    "import tifffile as tff\n",
    "import seaborn as sns\n",
    "import seaborn_image as isns\n",
    "import cmcrameri.cm as cmc\n",
    "from matplotlib import pyplot as plt\n",
    "from skimage.registration import phase_cross_correlation\n",
    "# import ants\n",
    "import csv\n",
    "from matplotlib import colormaps as clm\n",
    "\n",
    "# cmap = 'cmc.batlow'\n",
    "# sns.set_palette(cmap)"
   ]
  },
  {
   "cell_type": "markdown",
   "metadata": {},
   "source": [
    "## Open data"
   ]
  },
  {
   "cell_type": "code",
   "execution_count": 113,
   "metadata": {},
   "outputs": [],
   "source": [
    "pathBase = r\"Z:\\gGermain\\2024-09-17\\3\"\n",
    "\n",
    "HbO = zscore(np.loadtxt(pathBase + \"\\\\HbO_4rois.csv\", skiprows=1, delimiter=',', usecols=(1, 2, 3, 4)), axis=0)\n",
    "# print(len(HbO))\n",
    "HbR = zscore(np.loadtxt(pathBase + \"\\\\HbR_4rois.csv\", skiprows=1, delimiter=',', usecols=(1, 2, 3, 4)), axis=0)\n",
    "# print(len(HbR))\n",
    "HbT = zscore(np.loadtxt(pathBase + \"\\\\HbT_4rois.csv\", skiprows=1, delimiter=',', usecols=(1, 2, 3, 4)), axis=0)\n",
    "# print(len(HbT))\n",
    "gcamp = zscore(np.loadtxt(pathBase + \"\\\\470_4rois.csv\", skiprows=1, delimiter=',', usecols=(1, 2, 3, 4)), axis=0)[:len(HbT), :]\n",
    "# print(len(gcamp))\n",
    "\n",
    "\n",
    "# gcamp = np.loadtxt(pathBase + \"\\\\470.csv\", delimiter=',', usecols=(1), skiprows=1)\n",
    "# Hb = np.load(pathBase + \"\\\\computedHb.npy\")\n",
    "# (HbO, HbR, HbT) = Hb\n",
    "\n",
    "ts = np.load(pathBase + \"\\\\470ts.npy\")[:len(HbT)]"
   ]
  },
  {
   "cell_type": "code",
   "execution_count": 114,
   "metadata": {},
   "outputs": [],
   "source": [
    "# air puffs\n",
    "\n",
    "AP_times = np.array([  12.01,   35.2 ,   46.51,   74.12,   91.14,  103.63,  114.48,\n",
    "       132.14,  142.77,  169.61,  182.33,  197.83,  209.56,  223.5 ,\n",
    "       239.35,  252.31,  263.77,  279.97,  297.53,  310.62,  323.38,\n",
    "       335.92,  365.67])#,  383.93,  402.83,  417.51,  430.48,  440.9 ,\n",
    "    #    456.7 ,  468.25,  480.64,  492.07,  505.46,  519.24,  536.92,\n",
    "       #  552.43,  576.9 ,  596.15,  612.13,  632.1 ,  645.22,  664.01,\n",
    "       #  686.24,  703.4 ,  713.56,  729.68,  740.07,  752.43,  765.83,\n",
    "       #  777.35,  789.49,  800.04,  810.43,  824.76,  839.67,  850.88,\n",
    "       #  860.94,  874.11,  888.13,  904.49,  922.57,  935.73,  947.48,\n",
    "       #  963.51,  973.88,  990.72, 1003.71, 1020.55, 1032.  , 1042.46,\n",
    "       # 1055.49, 1078.02, 1099.15, 1121.05, 1132.5 , 1161.08, 1172.75,\n",
    "       # 1188.24, 1201.83, 1230.68, 1243.77, 1255.68, 1280.08, 1294.65,\n",
    "       # 1322.31, 1347.66, 1375.94, 1385.98, 1399.58, 1411.88, 1430.66,\n",
    "       # 1447.55, 1458.09, 1468.23, 1478.57, 1493.51, 1503.51, 1520.58,\n",
    "       # 1535.84, 1548.77])\n",
    "\n",
    "AP_idx = []\n",
    "for ti in AP_times:\n",
    "       AP_idx.append(np.argmin(np.absolute(ts-ti)))\n",
    "# Dirac où AP dans times series\n",
    "AP_series = np.zeros(len(ts))\n",
    "AP_series[AP_idx] = 1\n",
    "\n",
    "roi = 3\n",
    "sigs = np.array([HbT[:,roi], HbO[:,roi], HbR[:,roi]])\n",
    "\n",
    "# sigs = np.array([HbT, HbO, HbR])\n",
    "\n",
    "\n",
    "## ALIGN DATA\n",
    "inf = 30\n",
    "sup = 100\n",
    "aligned_data_raw = np.zeros((len(sigs), len(AP_idx), inf+sup))\n",
    "\n",
    "aligned_data_norm = np.zeros((len(sigs), len(AP_idx), inf+sup))\n",
    "for idx, sig in enumerate(sigs):\n",
    "  for i in range(len(AP_idx)):\n",
    "    plage = sig[int(AP_idx[i]-inf):int(AP_idx[i]+sup)]\n",
    "    aligned_data_raw[idx,i,:] = plage\n",
    "    aligned_data_norm[idx,i,:] = (plage-np.min(plage))/(np.max(plage)-np.min(plage))\n",
    "\n",
    "  aligned_data = aligned_data_raw"
   ]
  },
  {
   "cell_type": "code",
   "execution_count": 130,
   "metadata": {},
   "outputs": [],
   "source": [
    "%matplotlib qt5\n",
    "# %matplotlib inline\n",
    "\n",
    "roi = 3\n",
    "plt.plot(ts, gcamp[:, roi], c='b', label='GCaMP')\n",
    "plt.plot(ts, HbT[:, roi], c='g', label='HbT')\n",
    "# plt.plot(ts, HbO[:, roi], c='r', label='HbO')\n",
    "# plt.plot(ts, HbR[:, roi], c='k', label='HbR')\n",
    "\n",
    "# plt.plot(ts, gcamp/np.mean(gcamp), c='b', label='GCaMP')\n",
    "# plt.plot(ts, HbT/np.mean(HbT)+0.5, c='g', label='HbT')\n",
    "\n",
    "plt.vlines(AP_times, -2, 4, color='grey', linestyles=('--'), label='air puff')\n",
    "\n",
    "plt.legend()\n",
    "plt.show()"
   ]
  },
  {
   "cell_type": "code",
   "execution_count": 120,
   "metadata": {},
   "outputs": [],
   "source": [
    "fig, axs = plt.subplots(3, 2, figsize=(14,7), width_ratios=[5, 4])\n",
    "sns.set_context('notebook')\n",
    "\n",
    "titles = (\"HbT\", \"HbO\", \"HbR\")\n",
    "titles_av = (\"HbT average\", \"HbO  average\", \"HbR average\")\n",
    "cols = ('midnightblue', 'midnightblue', 'midnightblue')\n",
    "cmaps = (clm['PuBu_r'], clm['PuBu_r'], clm['PuBu_r'])\n",
    "\n",
    "\n",
    "for idx, (sig, cmap, title, title_av) in enumerate(zip(aligned_data, cmaps, titles, titles_av)):\n",
    "  ax = plt.subplot(3, 2, 2*idx+1)\n",
    "  ax.set_title(title)\n",
    "  ax.set_xlabel('time relative to airpuff [s]')\n",
    "  ax.set_ylabel(\"trial [-]\")\n",
    "  pos = ax.imshow(aligned_data_norm[idx,:,:], origin='lower', extent=[ts[AP_idx[0]-inf]-ts[AP_idx[0]], ts[AP_idx[0]+sup]-ts[AP_idx[0]], 0, len(AP_times)], aspect='auto', cmap=cmap)\n",
    "  fig.colorbar(pos, ax=ax)\n",
    "\n",
    "for idx, (sig, col, title, title_av) in enumerate(zip(aligned_data_raw, cols, titles, titles_av)):\n",
    "    avg_data = np.mean(sig, axis=0)\n",
    "    std_data = sem(sig, axis=0)\n",
    "\n",
    "    ax = plt.subplot(3, 2, 2*idx+2)\n",
    "    ax.set_title(title_av)\n",
    "    # ax.vlines(0, avg_data.min(), avg_data.max(), color='grey', linestyles='-')\n",
    "    ax.plot(ts[AP_idx[0]-inf:AP_idx[0]+sup]-ts[AP_idx[0]], avg_data, color=col)\n",
    "    ax.fill_between(ts[AP_idx[0]-inf:AP_idx[0]+sup]-ts[AP_idx[0]], avg_data-std_data, avg_data+std_data, color=col, alpha=0.2)\n",
    "    ax.set_xlim(ts[AP_idx[0]-inf]-ts[AP_idx[0]], ts[AP_idx[0]+sup]-ts[AP_idx[0]])\n",
    "    ax.set_xlabel('time relative to airpuff [s]')\n",
    "    if idx == 1:\n",
    "        ax.set_ylabel(\"Concentration variation [uM]\")\n",
    "    # sns.despine()\n",
    "    plt.tight_layout()\n",
    "\n",
    "# plt.savefig(\"behavior_rasters.svg\")"
   ]
  },
  {
   "cell_type": "markdown",
   "metadata": {},
   "source": [
    "## Corrélation"
   ]
  },
  {
   "cell_type": "code",
   "execution_count": 110,
   "metadata": {},
   "outputs": [
    {
     "data": {
      "text/plain": [
       "[<matplotlib.lines.Line2D at 0x284544ae5a0>]"
      ]
     },
     "execution_count": 110,
     "metadata": {},
     "output_type": "execute_result"
    }
   ],
   "source": [
    "roi = 0\n",
    "\n",
    "correlation_HbO = correlate(zscore(gcamp[:,roi]), zscore(HbO[:,roi]))\n",
    "correlation_HbR = correlate(gcamp[:,roi], -HbR[:,roi])   # anticorrélé\n",
    "correlation_HbT = correlate(gcamp[:,roi], HbT[:,roi])\n",
    "\n",
    "# lag_HbO = (len(AP_series) - np.argmax(correlation_HbO))*time[1]\n",
    "# lag_HbR = (len(AP_series) - np.argmax(correlation_HbR))*time[1]\n",
    "# lag_HbT = (len(AP_series) - np.argmax(correlation_HbT))*time[1]\n",
    "\n",
    "plt.plot(correlation_HbO)"
   ]
  },
  {
   "cell_type": "code",
   "execution_count": null,
   "metadata": {},
   "outputs": [],
   "source": [
    "## cropping data\n",
    "\n"
   ]
  }
 ],
 "metadata": {
  "kernelspec": {
   "display_name": "WFenv",
   "language": "python",
   "name": "python3"
  },
  "language_info": {
   "codemirror_mode": {
    "name": "ipython",
    "version": 3
   },
   "file_extension": ".py",
   "mimetype": "text/x-python",
   "name": "python",
   "nbconvert_exporter": "python",
   "pygments_lexer": "ipython3",
   "version": "3.12.4"
  }
 },
 "nbformat": 4,
 "nbformat_minor": 2
}
