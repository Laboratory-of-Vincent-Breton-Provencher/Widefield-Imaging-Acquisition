{
 "cells": [
  {
   "cell_type": "markdown",
   "metadata": {},
   "source": [
    "## Analyse comportementale"
   ]
  },
  {
   "cell_type": "code",
   "execution_count": 3,
   "metadata": {},
   "outputs": [],
   "source": [
    "# modules\n",
    "import numpy as np\n",
    "from matplotlib import pyplot as plt\n",
    "import seaborn as sns"
   ]
  },
  {
   "cell_type": "code",
   "execution_count": 54,
   "metadata": {},
   "outputs": [],
   "source": [
    "# load data\n",
    "path_base = r\"Z:\\gGermain\\2014_09_17\"\n",
    "\n",
    "beh_data = np.load(path_base + \"\\\\SourisWF_SynG8s_3-09172024153215-0000_proc.npy\", allow_pickle=True).item()\n",
    "\n",
    "motion = beh_data['motion'][1]\n",
    "pupil = beh_data['pupil'][0]['area_smooth']\n",
    "blink = beh_data['blink'][0]\n",
    "\n",
    "# grossier, aller chercher timestamps frames\n",
    "time = np.array(list(range(len(motion))))/50\n"
   ]
  },
  {
   "cell_type": "code",
   "execution_count": 42,
   "metadata": {},
   "outputs": [],
   "source": [
    "# air puffs\n",
    "\n",
    "AP_time = np.array([  12.01,   35.2 ,   46.51,   74.12,   91.14,  103.63,  114.48,\n",
    "        132.14,  142.77,  169.61,  182.33,  197.83,  209.56,  223.5 ,\n",
    "        239.35,  252.31,  263.77,  279.97,  297.53,  310.62,  323.38,\n",
    "        335.92,  365.67,  383.93,  402.83,  417.51,  430.48,  440.9 ,\n",
    "        456.7 ,  468.25,  480.64,  492.07,  505.46,  519.24,  536.92,\n",
    "        552.43,  576.9 ,  596.15,  612.13,  632.1 ,  645.22,  664.01,\n",
    "        686.24,  703.4 ,  713.56,  729.68,  740.07,  752.43,  765.83,\n",
    "        777.35,  789.49,  800.04,  810.43,  824.76,  839.67,  850.88,\n",
    "        860.94,  874.11,  888.13,  904.49,  922.57,  935.73,  947.48,\n",
    "        963.51,  973.88,  990.72, 1003.71, 1020.55, 1032.  , 1042.46,\n",
    "       1055.49, 1078.02, 1099.15, 1121.05, 1132.5 , 1161.08, 1172.75,\n",
    "       1188.24, 1201.83, 1230.68, 1243.77, 1255.68, 1280.08, 1294.65,\n",
    "       1322.31, 1347.66, 1375.94, 1385.98, 1399.58, 1411.88, 1430.66,\n",
    "       1447.55, 1458.09, 1468.23, 1478.57, 1493.51, 1503.51, 1520.58,\n",
    "       1535.84, 1548.77])"
   ]
  },
  {
   "cell_type": "markdown",
   "metadata": {},
   "source": [
    "les time stamps des frames ne semblent pas être alignés avec les ai puffs, prendre time stamps camera au lieu d'estimer time"
   ]
  },
  {
   "cell_type": "code",
   "execution_count": 53,
   "metadata": {},
   "outputs": [
    {
     "data": {
      "text/plain": [
       "(0.0, 608.825)"
      ]
     },
     "execution_count": 53,
     "metadata": {},
     "output_type": "execute_result"
    }
   ],
   "source": [
    "\n",
    "%matplotlib qt5\n",
    "# %matplotlib inline\n",
    "plt.plot(time, motion)\n",
    "plt.vlines(AP_time, motion.min(), motion.max(), color='black', linestyles=('--'))\n",
    "plt.xlim(0, time.max())"
   ]
  }
 ],
 "metadata": {
  "kernelspec": {
   "display_name": "WFenv",
   "language": "python",
   "name": "python3"
  },
  "language_info": {
   "codemirror_mode": {
    "name": "ipython",
    "version": 3
   },
   "file_extension": ".py",
   "mimetype": "text/x-python",
   "name": "python",
   "nbconvert_exporter": "python",
   "pygments_lexer": "ipython3",
   "version": "3.12.4"
  }
 },
 "nbformat": 4,
 "nbformat_minor": 2
}
